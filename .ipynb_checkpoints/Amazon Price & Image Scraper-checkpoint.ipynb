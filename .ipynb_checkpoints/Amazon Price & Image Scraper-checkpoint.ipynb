{
 "cells": [
  {
   "cell_type": "markdown",
   "metadata": {},
   "source": [
    "# Amazon Price & Image Scraper \n",
    "\n",
    "Use this notebook to scrape spot instance prices and images that can be used on instances for each region and save the data. This data allows users to switch between regions easily without worrying about price and image id cahnges. \n",
    "\n",
    "Both resources require javascript submissions which is why selenium web-browser is used to scrape the websites. "
   ]
  },
  {
   "cell_type": "code",
   "execution_count": null,
   "metadata": {},
   "outputs": [],
   "source": [
    "from bs4 import BeautifulSoup\n",
    "from selenium import webdriver\n",
    "import pandas as pd\n",
    "import re \n",
    "\n",
    "def launch_driver(wait=10):\n",
    "    chromeDriver = \"C:/Webdriver/chromedriver.exe\"                # set the driver path \n",
    "    driver = webdriver.Chrome(executable_path=chromeDriver)       # launch the driver \n",
    "    driver.implicitly_wait(wait)                                  # tell the driver to wait at least `wait` seconds before throwing up an error\n",
    "\n",
    "    return driver "
   ]
  },
  {
   "cell_type": "markdown",
   "metadata": {},
   "source": [
    "## spot-instance prices"
   ]
  },
  {
   "cell_type": "markdown",
   "metadata": {},
   "source": [
    "**Launch the driver**:"
   ]
  },
  {
   "cell_type": "code",
   "execution_count": 94,
   "metadata": {},
   "outputs": [],
   "source": [
    "driver = launch_driver()"
   ]
  },
  {
   "cell_type": "markdown",
   "metadata": {},
   "source": [
    "**Get the spot connect pricing website**:"
   ]
  },
  {
   "cell_type": "code",
   "execution_count": 95,
   "metadata": {},
   "outputs": [],
   "source": [
    "driver.get('https://aws.amazon.com/ec2/spot/pricing/')"
   ]
  },
  {
   "cell_type": "markdown",
   "metadata": {},
   "source": [
    "**Run the scraper**:"
   ]
  },
  {
   "cell_type": "code",
   "execution_count": 100,
   "metadata": {
    "scrolled": true
   },
   "outputs": [],
   "source": [
    "region_num = 0 \n",
    "\n",
    "dropdown_button = driver.find_elements_by_class_name('btn-dropdown')[0].click()\n",
    "\n",
    "regions = driver.find_elements_by_class_name('dropdown-opened')[0].find_elements_by_tag_name('li')\n",
    "region_names = [region.text for region in regions]\n",
    "\n",
    "data = {}\n",
    "\n",
    "headers = ['instance_type', 'linux_price', 'windows_price', 'region']\n",
    "for header in headers:\n",
    "    data[header] = []\n",
    "\n",
    "for opt, region in enumerate(region_names):\n",
    "\n",
    "    if opt!=0: \n",
    "        dropdown_button = driver.find_elements_by_class_name('btn-dropdown')[0].click()\n",
    "        regions = driver.find_elements_by_class_name('dropdown-opened')[0].find_elements_by_tag_name('li')\n",
    "        \n",
    "    regions[opt].click()\n",
    "    \n",
    "    soup = BeautifulSoup(driver.page_source)\n",
    "    \n",
    "    tables = soup.find_all('table')\n",
    "    \n",
    "    small_tables = tables[0].find_all('tbody')\n",
    "    \n",
    "    for small_table in small_tables: \n",
    "\n",
    "        rows = small_table.find_all('tr')\n",
    "\n",
    "        for row in rows[1:]:\n",
    "            for idx, val in enumerate(row.find_all('td')):\n",
    "                data[headers[idx]].append(val.text)\n",
    "\n",
    "            data['region'].append(region)\n",
    "\n",
    "return data "
   ]
  },
  {
   "cell_type": "markdown",
   "metadata": {},
   "source": [
    "**Save the data as a .csv file**: "
   ]
  },
  {
   "cell_type": "code",
   "execution_count": 180,
   "metadata": {
    "scrolled": true
   },
   "outputs": [],
   "source": [
    "pd.DataFrame(data).to_csv('spot_instance_pricing.csv')"
   ]
  },
  {
   "cell_type": "markdown",
   "metadata": {},
   "source": [
    "## Preset Images \n",
    "\n",
    "Collecting the default images is more challenging than scraping the prices because you must log in to an AWS dashboard to enter the launch instance process in each region. Input your username and password below to run this scraper. "
   ]
  },
  {
   "cell_type": "code",
   "execution_count": null,
   "metadata": {
    "scrolled": true
   },
   "outputs": [],
   "source": [
    "username = 'carlos.d.valcarcel.w@gmail.com'\n",
    "password = 'P092@(34023%'\n",
    "\n",
    "driver = launch_driver()\n",
    "\n",
    "driver.get('https://console.aws.amazon.com/console/home?nc2=h_ct&src=header-signin')\n",
    "\n",
    "driver.find_element_by_id('resolving_input').send_keys(username)\n",
    "driver.find_element_by_id('next_button').click()\n",
    "driver.find_element_by_id('password').send_keys(password)\n",
    "driver.find_element_by_id('signin_button').click()\n",
    "\n",
    "# The driver might request a Captcha verification at this point "
   ]
  },
  {
   "cell_type": "markdown",
   "metadata": {},
   "source": [
    "**CAPTCHA NOTIFICATION**: at the end of the previous block the driver should end up at the logged in landing page, otherwise it will be stuck in a captcha, if it is then just complete the captcha, the  following cell block should run without a problem after that. \n",
    "\n",
    "**<br>Scrape images from the launcher**:\n",
    "<br>The image scraper will be looping across regions so if you don't have access to a region it will get stopped. "
   ]
  },
  {
   "cell_type": "code",
   "execution_count": null,
   "metadata": {
    "scrolled": true
   },
   "outputs": [],
   "source": [
    "import time\n",
    "\n",
    "driver.find_element_by_id('nav-regionMenu').click()\n",
    "region_menu = driver.find_element_by_id('regionMenuContent')\n",
    "region_menu = region_menu.find_elements_by_tag_name('a')\n",
    "region_names = [x.text for x in region_menu]\n",
    "\n",
    "columns = ['image_name','image_id','region']\n",
    "image_data = {} \n",
    "for col in columns: \n",
    "    image_data[col] = []\n",
    "\n",
    "for opt, region in enumerate(region_names):\n",
    "\n",
    "    print('Working on region %s' % region)\n",
    "\n",
    "    if opt != 0: \n",
    "        driver.find_element_by_id('nav-regionMenu').click()\n",
    "        region_menu = driver.find_element_by_id('regionMenuContent')\n",
    "        region_menu = region_menu.find_elements_by_tag_name('a')\n",
    "        \n",
    "    if region == '':\n",
    "        continue \n",
    "        \n",
    "    region_menu[opt].click()\n",
    "    \n",
    "    in_launcher = False \n",
    "    while not in_launcher: \n",
    "        try: \n",
    "            if opt == 0: \n",
    "                driver.find_element_by_id('EC2').click()\n",
    "                driver.get(driver.current_url.split('#')[0]+'#Instances:')\n",
    "                driver.find_element_by_class_name('gwt-Button').click()\n",
    "                in_launcher = True \n",
    "            else: \n",
    "                in_launcher = True \n",
    "        except: \n",
    "            time.sleep(1)\n",
    "            \n",
    "    complete=False \n",
    "    attempt = 1 \n",
    "    while not complete: \n",
    "        try:\n",
    "            soup = BeautifulSoup(driver.page_source)\n",
    "            ami_list = soup.find_all('div', {'id':'gwt-debug-myAMIList'})[0]\n",
    "            page_loaded=True\n",
    "        \n",
    "            children = [x for x in ami_list.children]\n",
    "            children = [x for x in children[1].children]\n",
    "            children = [x for x in children[0].children]\n",
    "\n",
    "            assert len(children)>0\n",
    "\n",
    "            for child in children:\n",
    "                try: \n",
    "                    image_name = child.find_all('span')[4].text\n",
    "\n",
    "                    image_id = re.findall('[\\s?](ami-[A-Za-z0-9]*)[\\s?]', child.find_all('span')[5].text)[0]\n",
    "\n",
    "                    image_data['image_name'].append(image_name)\n",
    "                    image_data['image_id'].append(image_id)\n",
    "                    image_data['region'].append(region)\n",
    "                except:\n",
    "                    continue\n",
    "                \n",
    "            complete = True \n",
    "                \n",
    "        except Exception as e:\n",
    "            attempt+=1\n",
    "            time.sleep(1)\n"
   ]
  },
  {
   "cell_type": "code",
   "execution_count": 25,
   "metadata": {},
   "outputs": [
    {
     "data": {
      "text/html": [
       "<div>\n",
       "<style scoped>\n",
       "    .dataframe tbody tr th:only-of-type {\n",
       "        vertical-align: middle;\n",
       "    }\n",
       "\n",
       "    .dataframe tbody tr th {\n",
       "        vertical-align: top;\n",
       "    }\n",
       "\n",
       "    .dataframe thead th {\n",
       "        text-align: right;\n",
       "    }\n",
       "</style>\n",
       "<table border=\"1\" class=\"dataframe\">\n",
       "  <thead>\n",
       "    <tr style=\"text-align: right;\">\n",
       "      <th>region</th>\n",
       "      <th>US East (N. Virginia)us-east-1</th>\n",
       "      <th>US West (Oregon)us-west-2</th>\n",
       "    </tr>\n",
       "    <tr>\n",
       "      <th>image_name</th>\n",
       "      <th></th>\n",
       "      <th></th>\n",
       "    </tr>\n",
       "  </thead>\n",
       "  <tbody>\n",
       "    <tr>\n",
       "      <td>Amazon Linux 2 AMI (HVM), SSD Volume Type</td>\n",
       "      <td>ami-0323c3dd2da7fb37d</td>\n",
       "      <td>ami-0d6621c01e8c2de2c</td>\n",
       "    </tr>\n",
       "    <tr>\n",
       "      <td>Red Hat Enterprise Linux 8 (HVM), SSD Volume Type</td>\n",
       "      <td>ami-098f16afa9edf40be</td>\n",
       "      <td>ami-02f147dfb8be58a10</td>\n",
       "    </tr>\n",
       "    <tr>\n",
       "      <td>SUSE Linux Enterprise Server 15 SP1 (HVM), SSD Volume Type</td>\n",
       "      <td>ami-0068cd63259e9f24c</td>\n",
       "      <td>ami-0b9c71b41cc33f180</td>\n",
       "    </tr>\n",
       "    <tr>\n",
       "      <td>Ubuntu Server 16.04 LTS (HVM), SSD Volume Type</td>\n",
       "      <td>ami-039a49e70ea773ffc</td>\n",
       "      <td>ami-008c6427c8facbe08</td>\n",
       "    </tr>\n",
       "    <tr>\n",
       "      <td>Ubuntu Server 18.04 LTS (HVM), SSD Volume Type</td>\n",
       "      <td>ami-085925f297f89fce1</td>\n",
       "      <td>ami-003634241a8fcdec0</td>\n",
       "    </tr>\n",
       "    <tr>\n",
       "      <td>Ubuntu Server 20.04 LTS (HVM), SSD Volume Type</td>\n",
       "      <td>ami-068663a3c619dd892</td>\n",
       "      <td>ami-09dd2e08d601bff67</td>\n",
       "    </tr>\n",
       "  </tbody>\n",
       "</table>\n",
       "</div>"
      ],
      "text/plain": [
       "region                                             US East (N. Virginia)us-east-1  \\\n",
       "image_name                                                                          \n",
       "Amazon Linux 2 AMI (HVM), SSD Volume Type                   ami-0323c3dd2da7fb37d   \n",
       "Red Hat Enterprise Linux 8 (HVM), SSD Volume Type           ami-098f16afa9edf40be   \n",
       "SUSE Linux Enterprise Server 15 SP1 (HVM), SSD ...          ami-0068cd63259e9f24c   \n",
       "Ubuntu Server 16.04 LTS (HVM), SSD Volume Type              ami-039a49e70ea773ffc   \n",
       "Ubuntu Server 18.04 LTS (HVM), SSD Volume Type              ami-085925f297f89fce1   \n",
       "Ubuntu Server 20.04 LTS (HVM), SSD Volume Type              ami-068663a3c619dd892   \n",
       "\n",
       "region                                             US West (Oregon)us-west-2  \n",
       "image_name                                                                    \n",
       "Amazon Linux 2 AMI (HVM), SSD Volume Type              ami-0d6621c01e8c2de2c  \n",
       "Red Hat Enterprise Linux 8 (HVM), SSD Volume Type      ami-02f147dfb8be58a10  \n",
       "SUSE Linux Enterprise Server 15 SP1 (HVM), SSD ...     ami-0b9c71b41cc33f180  \n",
       "Ubuntu Server 16.04 LTS (HVM), SSD Volume Type         ami-008c6427c8facbe08  \n",
       "Ubuntu Server 18.04 LTS (HVM), SSD Volume Type         ami-003634241a8fcdec0  \n",
       "Ubuntu Server 20.04 LTS (HVM), SSD Volume Type         ami-09dd2e08d601bff67  "
      ]
     },
     "execution_count": 25,
     "metadata": {},
     "output_type": "execute_result"
    }
   ],
   "source": [
    "pd.DataFrame(image_data).sort_values('image_name').pivot(index='image_name', \n",
    "                                                         columns='region',\n",
    "                                                         values='image_id')"
   ]
  }
 ],
 "metadata": {
  "kernelspec": {
   "display_name": "Python 3",
   "language": "python",
   "name": "python3"
  },
  "language_info": {
   "codemirror_mode": {
    "name": "ipython",
    "version": 3
   },
   "file_extension": ".py",
   "mimetype": "text/x-python",
   "name": "python",
   "nbconvert_exporter": "python",
   "pygments_lexer": "ipython3",
   "version": "3.7.4"
  }
 },
 "nbformat": 4,
 "nbformat_minor": 2
}
