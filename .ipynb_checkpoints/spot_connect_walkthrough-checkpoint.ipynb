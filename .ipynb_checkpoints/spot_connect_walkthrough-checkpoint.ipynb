{
 "cells": [
  {
   "cell_type": "markdown",
   "metadata": {},
   "source": [
    "## <font color=black>sutils</font>\n",
    "\n",
    "**Change default region**:\n",
    "\n",
    "Use the `sutils.reset_profiles()` method and a prompt will appear with options and ask you to select a default region and AMI. \n",
    "\n",
    "Use the `price_increase` argument to set the maximum bid for each instance. This number will multiple the lowest spot-instance cost such that, for a spot-instance with a base price of \\$0.3 with a `price_increase=1.15`, the maximum bid for that instance type would be set at $0.345.    \n",
    "\n",
    "Sometimes your price will still be too low, in that case you will have to use `sutils.reset_profiles()` again with a higher price increase. "
   ]
  },
  {
   "cell_type": "code",
   "execution_count": 2,
   "metadata": {
    "scrolled": true
   },
   "outputs": [
    {
     "name": "stdout",
     "output_type": "stream",
     "text": [
      "C:\\Users\\Computer\\Dropbox\\projects\\spot-connect\\spot_connect\\data\\profiles.txt\n",
      "\n",
      "First profile before change\n",
      "{'efs_mount': 'True', 'firewall_ingress': ('tcp', 22, 22, '0.0.0.0/0'), 'image_id': 'ami-0cc039c2244660e0c', 'image_name': 'Deep Learning AMI (Amazon Linux) Version 29.0', 'instance_type': 't2.micro', 'min_price': '0.0056', 'price': '0.0064399999999999995', 'region': 'us-west-2', 'scripts': [], 'username': 'ec2-user'}\n",
      "\n",
      "First profile after change\n",
      "{'efs_mount': 'True', 'firewall_ingress': ('tcp', 22, 22, '0.0.0.0/0'), 'image_id': 'ami-0f3c887052a4defe9', 'image_name': 'Deep Learning AMI (Amazon Linux 2) Version 29.0', 'instance_type': 't2.micro', 'min_price': '0.0056', 'price': '0.0064399999999999995', 'region': 'us-east-2', 'scripts': [], 'username': 'ec2-user'}\n"
     ]
    }
   ],
   "source": [
    "from spot_connect import sutils \n",
    "\n",
    "first_profile_b4_change = sutils.load_profiles()['t2.micro']\n",
    "\n",
    "# Use the reset_profiles command to change the default region and AMI. \n",
    "sutils.reset_profiles(price_increase=1.15)\n",
    "\n",
    "print('\\nFirst profile before change')\n",
    "print(first_profile_b4_change)\n",
    "print('\\nFirst profile after change')\n",
    "print(sutils.load_profiles()['t2.micro'])"
   ]
  },
  {
   "cell_type": "markdown",
   "metadata": {},
   "source": [
    "**Show all profiles**:"
   ]
  },
  {
   "cell_type": "code",
   "execution_count": null,
   "metadata": {
    "scrolled": true
   },
   "outputs": [],
   "source": [
    "sutils.load_profiles()"
   ]
  },
  {
   "cell_type": "markdown",
   "metadata": {},
   "source": [
    "## spotted\n",
    "\n",
    "**SpotInstance class**\n",
    "\n",
    "The spot instance class is the main feature in `spotted`. Use the class to specify instance configurations and bid on, launch, and connect to spot-instances. \n",
    "\n",
    "<font color=red>**Warning: the following examples will create live instances on your account. These examples are cheap but they are not free, make sure to terminate them at the end of this notebook.**</font>"
   ]
  },
  {
   "cell_type": "code",
   "execution_count": 12,
   "metadata": {
    "scrolled": false
   },
   "outputs": [
    {
     "name": "stdout",
     "output_type": "stream",
     "text": [
      "Loading profiles, you can edit profiles in C:\\Users\\Computer\\Dropbox\\projects\\spot-connect\\spot_connect\n",
      "Default key-pair directory is \"C:/Projects/VirtualMachines/Key_Pairs\"\n",
      "\n",
      "#~#~#~#~#~#~#~#~#~#~#~#~#~#~#~#~#~#~#~#~#~#~#~#~#~#~#~#~#~#~#~#\n",
      "#~#~#~#~#~#~#~# Spot Instance: monitor\n",
      "#~#~#~#~#~#~#~#~#~#~#~#~#~#~#~#~#~#~#\n",
      "\n",
      "Profile:\n",
      "{'efs_mount': 'True', 'firewall_ingress': ('tcp', 22, 22, '0.0.0.0/0'), 'image_id': 'ami-0f3c887052a4defe9', 'image_name': 'Deep Learning AMI (Amazon Linux 2) Version 29.0', 'instance_type': 't2.micro', 'min_price': '0.0035', 'price': '0.004025', 'region': 'us-east-2', 'scripts': [], 'username': 'ec2-user'}\n",
      "\n",
      "Key pair detected, re-using...\n",
      "Security group detected, re-using...\n",
      "Requesting spot instance\n",
      "Launching.........Retrieving instance by id\n",
      "Got instance: i-0ac636361c058fadd[running].\n",
      "Waiting for instance to boot.............................Online\n",
      "Requesting EFS mount...\n",
      "\n",
      "Done. Current instance state: running\n"
     ]
    }
   ],
   "source": [
    "from spot_connect import spotted\n",
    "\n",
    "instance = spotted.SpotInstance('monitor', profile='t2.micro')"
   ]
  },
  {
   "cell_type": "markdown",
   "metadata": {},
   "source": [
    "You should now be able to see a live instance in your console as shown in the image below (in the photo the instance name is \"instance1\"). The `spot-connect` module automatically creates a new security group for each instance with that instance's name. This is so you can identify the instance name quickly (red square below). \n",
    "\n",
    "<img src='media/live_instance.png'>\n",
    "\n",
    "Try connecting a live prompt to that instance. Open a command prompt, use `spot_connect instance1` and you will be connected to the instance you just created. This spot-instance is cheap but it is not free. Don't forget to terminate it when you're done. "
   ]
  },
  {
   "cell_type": "markdown",
   "metadata": {},
   "source": [
    "## instance_manager\n",
    "\n",
    "**InstanceManager class**: \n",
    "\n",
    "The instance manager class lets you handle spot instances and access other module functionality directly. "
   ]
  },
  {
   "cell_type": "code",
   "execution_count": 13,
   "metadata": {},
   "outputs": [
    {
     "name": "stdout",
     "output_type": "stream",
     "text": [
      "Default key-pair directory is \"C:/Projects/VirtualMachines/Key_Pairs\"\n"
     ]
    }
   ],
   "source": [
    "from spot_connect import instance_manager\n",
    "\n",
    "im = instance_manager.InstanceManager()"
   ]
  },
  {
   "cell_type": "markdown",
   "metadata": {},
   "source": [
    "**Launch/re-connect to instance:**\n",
    "\n",
    "Launch instances directly using the `InstanceManager`. If you use the `launch_instance` command with the name of an instance that is already online it will simply reconnect to that instance as well as add it to `InstanceManager.instances`. "
   ]
  },
  {
   "cell_type": "code",
   "execution_count": 14,
   "metadata": {},
   "outputs": [
    {
     "name": "stdout",
     "output_type": "stream",
     "text": [
      "Loading profiles, you can edit profiles in C:\\Users\\Computer\\Dropbox\\projects\\spot-connect\\spot_connect\n",
      "\n",
      "#~#~#~#~#~#~#~#~#~#~#~#~#~#~#~#~#~#~#~#~#~#~#~#~#~#~#~#~#~#~#~#\n",
      "#~#~#~#~#~#~#~# Spot Instance: monitor\n",
      "#~#~#~#~#~#~#~#~#~#~#~#~#~#~#~#~#~#~#\n",
      "\n",
      "Profile:\n",
      "{'efs_mount': 'True', 'firewall_ingress': ('tcp', 22, 22, '0.0.0.0/0'), 'image_id': 'ami-0f3c887052a4defe9', 'image_name': 'Deep Learning AMI (Amazon Linux 2) Version 29.0', 'instance_type': 't2.micro', 'min_price': '0.0035', 'price': '0.004025', 'region': 'us-east-2', 'scripts': [], 'username': 'ec2-user'}\n",
      "\n",
      "Key pair detected, re-using...\n",
      "Security group detected, re-using...\n",
      "Retrieving instance by id\n",
      "Got instance: i-0ac636361c058fadd[running]...Online\n",
      "Requesting EFS mount...\n",
      "\n",
      "Done. Current instance state: running\n"
     ]
    }
   ],
   "source": [
    "im.launch_instance('monitor', profile='t2.micro')"
   ]
  },
  {
   "cell_type": "markdown",
   "metadata": {},
   "source": [
    "**You can now find this instance in the instance manager's list of instances**: "
   ]
  },
  {
   "cell_type": "code",
   "execution_count": 15,
   "metadata": {},
   "outputs": [
    {
     "name": "stdout",
     "output_type": "stream",
     "text": [
      "{'monitor': 'running'}\n"
     ]
    }
   ],
   "source": [
    "im.show_instances()"
   ]
  },
  {
   "cell_type": "markdown",
   "metadata": {},
   "source": [
    "**Run commands**: \n",
    "\n",
    "We can use the `run` command to execute commands on any instance from the notebook. Use the `cmd=True` option to submit a command. "
   ]
  },
  {
   "cell_type": "code",
   "execution_count": 16,
   "metadata": {},
   "outputs": [
    {
     "name": "stdout",
     "output_type": "stream",
     "text": [
      "/home/ec2-user\n"
     ]
    }
   ],
   "source": [
    "im.instances['monitor'].run('pwd', cmd=True)"
   ]
  },
  {
   "cell_type": "markdown",
   "metadata": {},
   "source": [
    "**Terminate an instance**: "
   ]
  },
  {
   "cell_type": "code",
   "execution_count": 18,
   "metadata": {},
   "outputs": [],
   "source": [
    "im.terminate('monitor')"
   ]
  }
 ],
 "metadata": {
  "kernelspec": {
   "display_name": "Python 3",
   "language": "python",
   "name": "python3"
  },
  "language_info": {
   "codemirror_mode": {
    "name": "ipython",
    "version": 3
   },
   "file_extension": ".py",
   "mimetype": "text/x-python",
   "name": "python",
   "nbconvert_exporter": "python",
   "pygments_lexer": "ipython3",
   "version": "3.7.4"
  }
 },
 "nbformat": 4,
 "nbformat_minor": 2
}
