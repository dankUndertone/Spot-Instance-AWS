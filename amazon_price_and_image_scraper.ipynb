{
 "cells": [
  {
   "cell_type": "markdown",
   "metadata": {},
   "source": [
    "# Amazon Price & Image Scraper \n",
    "\n",
    "Use this notebook to scrape spot instance prices and images that can be used on instances for each region and save the data. This data allows users to switch between regions easily without worrying about price and image id cahnges. \n",
    "\n",
    "Both resources require javascript submissions which is why selenium web-browser is used to scrape the websites. "
   ]
  },
  {
   "cell_type": "code",
   "execution_count": null,
   "metadata": {},
   "outputs": [],
   "source": [
    "from bs4 import BeautifulSoup\n",
    "from selenium import webdriver\n",
    "import pandas as pd\n",
    "import re \n",
    "\n",
    "def launch_driver(wait=10):\n",
    "    chromeDriver = \"C:/Webdriver/chromedriver.exe\"                # set the driver path \n",
    "    driver = webdriver.Chrome(executable_path=chromeDriver)       # launch the driver \n",
    "    driver.implicitly_wait(wait)                                  # tell the driver to wait at least `wait` seconds before throwing up an error\n",
    "\n",
    "    return driver "
   ]
  },
  {
   "cell_type": "markdown",
   "metadata": {},
   "source": [
    "## spot-instance prices"
   ]
  },
  {
   "cell_type": "markdown",
   "metadata": {},
   "source": [
    "**Launch the driver**:"
   ]
  },
  {
   "cell_type": "code",
   "execution_count": null,
   "metadata": {},
   "outputs": [],
   "source": [
    "driver = launch_driver()"
   ]
  },
  {
   "cell_type": "markdown",
   "metadata": {},
   "source": [
    "**Get the spot connect pricing website**:"
   ]
  },
  {
   "cell_type": "code",
   "execution_count": null,
   "metadata": {},
   "outputs": [],
   "source": [
    "driver.get('https://aws.amazon.com/ec2/spot/pricing/')"
   ]
  },
  {
   "cell_type": "markdown",
   "metadata": {},
   "source": [
    "**Run the scraper**:"
   ]
  },
  {
   "cell_type": "code",
   "execution_count": null,
   "metadata": {},
   "outputs": [],
   "source": [
    "data = {}\n",
    "\n",
    "headers = ['instance_type', 'linux_price', 'windows_price', 'region']\n",
    "for header in headers:\n",
    "    data[header] = []\n",
    "\n",
    "soup = BeautifulSoup(driver.page_source)\n",
    "\n",
    "region_tables = soup.find_all('div', {'class':'regions'})\n",
    "\n",
    "# for region_table in region_tables\n",
    "region_table = region_tables[0]\n",
    "\n",
    "region_price_tables = region_table.find_all('div', {'class':'content'})\n",
    "\n",
    "for table in region_price_tables: \n",
    "\n",
    "    table = table.find_all('table')[0]\n",
    "\n",
    "    region_name = table.find_all('caption')[0].text\n",
    "\n",
    "    rows = table.find_all('tr', {'class':'sizes'})\n",
    "\n",
    "    for row in rows:\n",
    "        for idx, val in enumerate(row.find_all('td')):\n",
    "            data[headers[idx]].append(val.text)\n",
    "            if example_num==1: \n",
    "                print(headers[idx], val.text)\n",
    "        example_num +=1 \n",
    "\n",
    "        data['region'].append(region_name)"
   ]
  },
  {
   "cell_type": "markdown",
   "metadata": {},
   "source": [
    "**Save the data as a .csv file**: "
   ]
  },
  {
   "cell_type": "code",
   "execution_count": null,
   "metadata": {
    "scrolled": true
   },
   "outputs": [],
   "source": [
    "pd.DataFrame(data).to_csv('spot_instance_pricing.csv')"
   ]
  },
  {
   "cell_type": "markdown",
   "metadata": {},
   "source": [
    "## Preset Images \n",
    "\n",
    "Collecting the default images is more challenging than scraping the prices because you must log in to an AWS dashboard to enter the launch instance process in each region. Input your username and password below to run this scraper. "
   ]
  },
  {
   "cell_type": "code",
   "execution_count": null,
   "metadata": {
    "scrolled": true
   },
   "outputs": [],
   "source": [
    "import getpass\n",
    "\n",
    "username = getpass.getpass('Username: ')\n",
    "password = getpass.getpass('Password: ')\n",
    "\n",
    "driver = launch_driver()\n",
    "\n",
    "driver.get('https://signin.aws.amazon.com')\n",
    "\n",
    "# Navigate to the sign up menu\n",
    "\n",
    "driver.find_element_by_id('resolving_input').send_keys(username)\n",
    "driver.find_element_by_id('next_button').click()\n",
    "driver.find_element_by_id('password').send_keys(password)\n",
    "driver.find_element_by_id('signin_button').click()\n",
    "\n",
    "# The driver might request a Captcha verification at this point "
   ]
  },
  {
   "cell_type": "markdown",
   "metadata": {},
   "source": [
    "**CAPTCHA NOTIFICATION**: at the end of the previous block the driver should end up at the logged in landing page, otherwise it will be stuck in a captcha, if it is then just complete the captcha, the  following cell block should run without a problem after that. Note that the next cell block will use the same driver. \n",
    "\n",
    "**<br>Scrape images from the launcher**:\n",
    "<br>The image scraper will be looping across regions so if you don't have access to a region it will get stopped. "
   ]
  },
  {
   "cell_type": "code",
   "execution_count": null,
   "metadata": {
    "scrolled": true
   },
   "outputs": [],
   "source": [
    "import time\n",
    "\n",
    "driver.find_element_by_id('nav-regionMenu').click()\n",
    "region_menu = driver.find_element_by_id('regionMenuContent')\n",
    "region_menu = region_menu.find_elements_by_tag_name('a')\n",
    "region_names = [x.text for x in region_menu]\n",
    "\n",
    "columns = ['image_name','image_id','region']\n",
    "image_data = {} \n",
    "for col in columns: \n",
    "    image_data[col] = []\n",
    "\n",
    "error_list = [] \n",
    "for opt, region in enumerate(region_names):\n",
    "\n",
    "    if region == '':\n",
    "        continue \n",
    "\n",
    "    print('Working on region %s' % region)\n",
    "\n",
    "    # Refresh the region menu \n",
    "    if opt != 0: \n",
    "        driver.find_element_by_id('nav-regionMenu').click()\n",
    "        region_menu = driver.find_element_by_id('regionMenuContent')\n",
    "        region_menu = region_menu.find_elements_by_tag_name('a')\n",
    "                \n",
    "    # Navigate to the region dashboard\n",
    "    [o for o in region_menu if region==o.text][0].click()\n",
    "    \n",
    "    # Navigate to the EC2 launcher \n",
    "    if opt==0:\n",
    "        driver.find_element_by_id('EC2').click()\n",
    "        driver.get(driver.current_url.split('#')[0]+'#Instances:')\n",
    "        driver.find_element_by_class_name('gwt-Button').click()\n",
    "    else: \n",
    "        driver.get('https://console.aws.amazon.com/ec2/v2/home?region='+region.split(')')[1]+'#LaunchInstanceWizard:')\n",
    "\n",
    "    complete=False \n",
    "    attempt = 1 \n",
    "    while not complete: \n",
    "        input('Enter any key to proceed once all the AMIs for the region have loaded')\n",
    "        try:\n",
    "            iframe = driver.find_element_by_id('instance-lx-gwt-frame') # <iframe id='instance-lx-gwt-frame'>\n",
    "\n",
    "            # Switch to the table iframe\n",
    "            driver.switch_to_frame(iframe)\n",
    "\n",
    "            # Get the page source\n",
    "            soup = BeautifulSoup(driver.page_source)\n",
    "\n",
    "            # Switch back to the main frame\n",
    "            driver.switch_to_default_content()\n",
    "\n",
    "            # Get the AMI list object (if not found will fail here and return exception to wait.\n",
    "            ami_list = soup.find_all('div', {'id':'gwt-debug-myAMIList'})[0]\n",
    "            page_loaded=True        \n",
    "\n",
    "            operating_systems = ['Ubuntu','Windows','Linux']\n",
    "\n",
    "            # Get each ami into a list\n",
    "            ami_list = ami_list.find_all('div', {'__idx':re.compile('.*')})                \n",
    "\n",
    "            for ix, ami in enumerate(ami_list): \n",
    "\n",
    "                # Find every element available and look for the operating system names to identify the description of the AMI\n",
    "                spans = ami.find_all('span')\n",
    "\n",
    "                for span in spans:\n",
    "                    span_text = span.text        \n",
    "                    has_operating_system = [ops for ops in operating_systems if ops in span_text]\n",
    "\n",
    "                    if len(has_operating_system)>0:\n",
    "                        description = span_text\n",
    "                        ami_id = re.findall('(ami-[A-Za-z0-9]*)', ami.text)[0]            \n",
    "                        image_data['image_name'].append(description)\n",
    "                        image_data['image_id'].append(ami_id)\n",
    "                        image_data['region'].append(region)\n",
    "                        break \n",
    "                \n",
    "        except Exception as e:\n",
    "            if str(e)=='Message: no such element: Unable to locate element: {\"method\":\"css selector\",\"selector\":\"[id=\"instance-lx-gwt-frame\"]\"':\n",
    "                complete=True\n",
    "            attempt+=1\n",
    "            error_list.append(str(e)+' : '+str(attempt)+' '+region)\n",
    "            print(str(attempt)+' ', end='')\n",
    "            time.sleep(1)"
   ]
  },
  {
   "cell_type": "markdown",
   "metadata": {},
   "source": [
    "**Format and save the data**:"
   ]
  },
  {
   "cell_type": "code",
   "execution_count": null,
   "metadata": {},
   "outputs": [],
   "source": [
    "the_data = pd.DataFrame(image_data)\n",
    "the_data.to_csv('ami_data.csv')\n",
    "the_data "
   ]
  }
 ],
 "metadata": {
  "kernelspec": {
   "display_name": "Python 3",
   "language": "python",
   "name": "python3"
  },
  "language_info": {
   "codemirror_mode": {
    "name": "ipython",
    "version": 3
   },
   "file_extension": ".py",
   "mimetype": "text/x-python",
   "name": "python",
   "nbconvert_exporter": "python",
   "pygments_lexer": "ipython3",
   "version": "3.7.4"
  }
 },
 "nbformat": 4,
 "nbformat_minor": 2
}
